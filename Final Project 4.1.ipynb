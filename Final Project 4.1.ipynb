{
 "cells": [
  {
   "cell_type": "code",
   "execution_count": 1,
   "id": "12d1f73e",
   "metadata": {},
   "outputs": [],
   "source": [
    "from tkinter import *\n",
    "\n",
    "root = Tk()\n",
    "# The title and size of the main window.\n",
    "root.title (\"Main Title or Logo\")\n",
    "root.geometry(\"400x300\")\n",
    "root.configure(background= \"#00ff55\")\n",
    "\n",
    "frame = Frame(root, background= \"#0000cc\")\n",
    "Label(frame,text=\"The Company Label\",font=(\"Arial Bold\", 16))\\\n",
    "    .grid(row=0, column=0, columnspan=2, padx=70, pady=35,)\n",
    "#User entry box\n",
    "Label(frame, background= \"#000099\", text=\"Enter Username\").grid(row=1, column=0)\n",
    "Entry(frame).grid(row=1, column=1, padx=2, pady=10)\n",
    "#User entry box to enter their password\n",
    "Label(frame, background= \"#000099\", text=\"Enter Password\").grid(row=2, column=0)\n",
    "Entry(frame).grid(row=2, column=1, padx=2, pady=10)\n",
    "#Then pressed the Login button to complete.\n",
    "Button(frame, text=\"Login\").grid(row=3, column=0, columnspan=2)\n",
    "\n",
    "Checkbutton(frame, text=\"I agree to terms and conditions\")\\\n",
    "    .grid(row=4, column=0, columnspan=2, sticky=W)\n",
    "frame.place(relx=0.5, rely=0.5, anchor=CENTER)\n",
    "root.mainloop()\n"
   ]
  },
  {
   "cell_type": "code",
   "execution_count": null,
   "id": "bffd8ce1",
   "metadata": {},
   "outputs": [],
   "source": []
  }
 ],
 "metadata": {
  "kernelspec": {
   "display_name": "Python 3 (ipykernel)",
   "language": "python",
   "name": "python3"
  },
  "language_info": {
   "codemirror_mode": {
    "name": "ipython",
    "version": 3
   },
   "file_extension": ".py",
   "mimetype": "text/x-python",
   "name": "python",
   "nbconvert_exporter": "python",
   "pygments_lexer": "ipython3",
   "version": "3.9.13"
  }
 },
 "nbformat": 4,
 "nbformat_minor": 5
}
